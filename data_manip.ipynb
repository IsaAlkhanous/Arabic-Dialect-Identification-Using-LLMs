{
 "cells": [
  {
   "cell_type": "code",
   "execution_count": 1,
   "metadata": {},
   "outputs": [
    {
     "data": {
      "text/html": [
       "<div>\n",
       "<style scoped>\n",
       "    .dataframe tbody tr th:only-of-type {\n",
       "        vertical-align: middle;\n",
       "    }\n",
       "\n",
       "    .dataframe tbody tr th {\n",
       "        vertical-align: top;\n",
       "    }\n",
       "\n",
       "    .dataframe thead th {\n",
       "        text-align: right;\n",
       "    }\n",
       "</style>\n",
       "<table border=\"1\" class=\"dataframe\">\n",
       "  <thead>\n",
       "    <tr style=\"text-align: right;\">\n",
       "      <th></th>\n",
       "      <th>sentID.BTEC</th>\n",
       "      <th>split</th>\n",
       "      <th>lang</th>\n",
       "      <th>sent</th>\n",
       "      <th>lang.1</th>\n",
       "    </tr>\n",
       "  </thead>\n",
       "  <tbody>\n",
       "    <tr>\n",
       "      <th>0</th>\n",
       "      <td>0.0</td>\n",
       "      <td>corpus-6-train</td>\n",
       "      <td>NILE</td>\n",
       "      <td>هو في اخر القاعة . أنا حأجيبلك شويه دلوقتي . ل...</td>\n",
       "      <td>CAI</td>\n",
       "    </tr>\n",
       "    <tr>\n",
       "      <th>1</th>\n",
       "      <td>0.0</td>\n",
       "      <td>corpus-6-train</td>\n",
       "      <td>GULF</td>\n",
       "      <td>موجود في نهاية الممر، بجيب لك شوي الحين. اذا ا...</td>\n",
       "      <td>DOH</td>\n",
       "    </tr>\n",
       "    <tr>\n",
       "      <th>2</th>\n",
       "      <td>0.0</td>\n",
       "      <td>corpus-6-train</td>\n",
       "      <td>MSA</td>\n",
       "      <td>إنها في أخر القاعة . سوف آتي لك ببعض منها الآن...</td>\n",
       "      <td>MSA</td>\n",
       "    </tr>\n",
       "    <tr>\n",
       "      <th>3</th>\n",
       "      <td>0.0</td>\n",
       "      <td>corpus-6-train</td>\n",
       "      <td>NOR-AFR</td>\n",
       "      <td>موجود في اخر الكولوار. و نجيبهولك توا. كان تست...</td>\n",
       "      <td>TUN</td>\n",
       "    </tr>\n",
       "    <tr>\n",
       "      <th>4</th>\n",
       "      <td>0.0</td>\n",
       "      <td>corpus-6-train</td>\n",
       "      <td>NOR-AFR</td>\n",
       "      <td>كاين في اللاخر ديال هاد القاعة. انجيب ليك شويا...</td>\n",
       "      <td>RAB</td>\n",
       "    </tr>\n",
       "  </tbody>\n",
       "</table>\n",
       "</div>"
      ],
      "text/plain": [
       "   sentID.BTEC           split     lang  \\\n",
       "0          0.0  corpus-6-train     NILE   \n",
       "1          0.0  corpus-6-train     GULF   \n",
       "2          0.0  corpus-6-train      MSA   \n",
       "3          0.0  corpus-6-train  NOR-AFR   \n",
       "4          0.0  corpus-6-train  NOR-AFR   \n",
       "\n",
       "                                                sent lang.1  \n",
       "0  هو في اخر القاعة . أنا حأجيبلك شويه دلوقتي . ل...    CAI  \n",
       "1  موجود في نهاية الممر، بجيب لك شوي الحين. اذا ا...    DOH  \n",
       "2  إنها في أخر القاعة . سوف آتي لك ببعض منها الآن...    MSA  \n",
       "3  موجود في اخر الكولوار. و نجيبهولك توا. كان تست...    TUN  \n",
       "4  كاين في اللاخر ديال هاد القاعة. انجيب ليك شويا...    RAB  "
      ]
     },
     "execution_count": 1,
     "metadata": {},
     "output_type": "execute_result"
    }
   ],
   "source": [
    "import pandas as pd\n",
    "\n",
    "df = pd.read_csv(\"merged_output.csv\")\n",
    "\n",
    "df.head()"
   ]
  },
  {
   "cell_type": "code",
   "execution_count": 16,
   "metadata": {},
   "outputs": [],
   "source": [
    "regions = [\"NOR-AFR\",\"NILE\",\"LEV\",\"GULF\",\"YEM\",\"MSA\",\"IRAQ\"]\n",
    "small_df = pd.DataFrame()\n",
    "\n",
    "for region in regions:\n",
    "    subset_25 = df[df[\"lang\"] == region].head(10)\n",
    "    small_df = pd.concat([small_df, subset_25], ignore_index=True)\n",
    "\n",
    "small_df = small_df.sample(frac=1, random_state=42).reset_index(drop=True)"
   ]
  },
  {
   "cell_type": "code",
   "execution_count": 18,
   "metadata": {},
   "outputs": [],
   "source": [
    "small_df.to_excel(\"shuffled_regions2.xlsx\", index=False, engine=\"openpyxl\")"
   ]
  }
 ],
 "metadata": {
  "kernelspec": {
   "display_name": "Python 3",
   "language": "python",
   "name": "python3"
  },
  "language_info": {
   "codemirror_mode": {
    "name": "ipython",
    "version": 3
   },
   "file_extension": ".py",
   "mimetype": "text/x-python",
   "name": "python",
   "nbconvert_exporter": "python",
   "pygments_lexer": "ipython3",
   "version": "3.13.1"
  }
 },
 "nbformat": 4,
 "nbformat_minor": 2
}
